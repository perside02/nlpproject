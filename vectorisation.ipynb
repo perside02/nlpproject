{
 "cells": [
  {
   "cell_type": "code",
   "execution_count": 3,
   "id": "7900d2ec",
   "metadata": {},
   "outputs": [],
   "source": [
    "#importer les Tfidfvectorizer, pandas et de numpy\n",
    "from sklearn.feature_extraction.text import TfidfVectorizer \n",
    "import pandas as pd\n",
    "import numpy as np"
   ]
  },
  {
   "cell_type": "code",
   "execution_count": null,
   "id": "129b6bd0",
   "metadata": {},
   "outputs": [
    {
     "name": "stdout",
     "output_type": "stream",
     "text": [
      "Fichier chargé: 196 lignes\n"
     ]
    }
   ],
   "source": [
    "#charger le fichier \n",
    "data = pd.read_csv(\"dataset_uvbf_pretraite.csv\", encoding='utf-8')\n",
    "#conversion du textes_pretraites en liste\n",
    "textes_pretraites = data['textes_pretraites'].fillna('').tolist()\n",
    "print(f\"Fichier chargé: {len(textes_pretraites)} lignes\")"
   ]
  },
  {
   "cell_type": "code",
   "execution_count": null,
   "id": "1474cd97",
   "metadata": {},
   "outputs": [],
   "source": [
    "\"\"\"#verifier les colonnes\n",
    "print(f\"colonne: {data.columns.tolist()}\")\n",
    "data.head()\"\"\""
   ]
  },
  {
   "cell_type": "code",
   "execution_count": null,
   "id": "21e8c9d3",
   "metadata": {},
   "outputs": [],
   "source": [
    "\"\"\"\n",
    "#charger la colonne prétraiter\n",
    "corpus = data[\"textes_pretraites\"].astype(str)\n",
    "print(corpus)\"\"\"\n"
   ]
  },
  {
   "cell_type": "code",
   "execution_count": null,
   "id": "95ca001f",
   "metadata": {},
   "outputs": [],
   "source": [
    "#initialisation à la vectorisation\n",
    "vectorizer = TfidfVectorizer(\n",
    "max_features=500,\n",
    "      \n",
    ")\n",
    "#applique le vectoriseur les textes\n",
    "matrice_tfidf = vectorizer.fit_transform(textes_pretraites)\n"
   ]
  },
  {
   "cell_type": "code",
   "execution_count": null,
   "id": "3423ae3e",
   "metadata": {},
   "outputs": [],
   "source": [
    "#converti en matrice dense numpy\n",
    "vecteurs_dense = matrice_tfidf.toarray()\n",
    "print(f\"Forme des vecteurs : {vecteurs_dense.shape}\")"
   ]
  },
  {
   "cell_type": "code",
   "execution_count": 37,
   "id": "ffe8aa8e",
   "metadata": {},
   "outputs": [
    {
     "name": "stdout",
     "output_type": "stream",
     "text": [
      "\n",
      "Phrase 1:\n",
      "Texte: 'cour interess parfois difficil a suivr a caus coupur connexion...'\n",
      "Vecteur: [0. 0. 0. 0. 0. 0. 0. 0. 0. 0.]...\n",
      "Dimensions: (500,)\n",
      "\n",
      "Phrase 2:\n",
      "Texte: 'oui pens ya faill connexion stabl plus qualit cour trop ca...'\n",
      "Vecteur: [0. 0. 0. 0. 0. 0. 0. 0. 0. 0.]...\n",
      "Dimensions: (500,)\n",
      "\n",
      "Phrase 3:\n",
      "Texte: 'virtuel burkin faso universit qualit car permet non seul suivr cour temp aupport...'\n",
      "Vecteur: [0.         0.         0.         0.         0.         0.\n",
      " 0.11171961 0.         0.         0.        ]...\n",
      "Dimensions: (500,)\n",
      "\n",
      "Phrase 4:\n",
      "Texte: 'rien a dir...'\n",
      "Vecteur: [0. 0. 0. 0. 0. 0. 0. 0. 0. 0.]...\n",
      "Dimensions: (500,)\n",
      "\n",
      "Phrase 5:\n",
      "Texte: 'formid beaucoup a difficult tant tel...'\n",
      "Vecteur: [0. 0. 0. 0. 0. 0. 0. 0. 0. 0.]...\n",
      "Dimensions: (500,)\n",
      "\n",
      "Phrase 6:\n",
      "Texte: 'virtuel offre mal not fait pouvoir suivr chez soi san avoir a deplac...'\n",
      "Vecteur: [0. 0. 0. 0. 0. 0. 0. 0. 0. 0.]...\n",
      "Dimensions: (500,)\n"
     ]
    }
   ],
   "source": [
    "\n",
    "for i in range(6):\n",
    "    print(f\"\\nPhrase {i+1}:\")\n",
    "    print(f\"Texte: '{textes_pretraites[i][:80]}...'\")\n",
    "    print(f\"Vecteur: {vecteurs_dense[i][:10]}...\")  # 10 premières valeurs\n",
    "    print(f\"Dimensions: {vecteurs_dense[i].shape}\")"
   ]
  },
  {
   "cell_type": "code",
   "execution_count": 47,
   "id": "98a4a1f5",
   "metadata": {},
   "outputs": [
    {
     "name": "stdout",
     "output_type": "stream",
     "text": [
      "💾 Fichier complet sauvegardé: 'phrases_et_vecteurs.csv'\n"
     ]
    }
   ],
   "source": [
    "df_resultat = pd.DataFrame({\n",
    "    'texte_original': data['comments'],\n",
    "    'texte_pretraite': data['textes_pretraites'],\n",
    "     'vecteur_numerique': [vecteurs_dense[i] for i in range(len(vecteurs_dense))]\n",
    "})\n",
    "df_resultat.to_csv('phrases_et_vecteurs.csv', index=False)\n",
    "print(\"💾 Fichier complet sauvegardé: 'phrases_et_vecteurs.csv'\")"
   ]
  }
 ],
 "metadata": {
  "kernelspec": {
   "display_name": "projet",
   "language": "python",
   "name": "python3"
  },
  "language_info": {
   "codemirror_mode": {
    "name": "ipython",
    "version": 3
   },
   "file_extension": ".py",
   "mimetype": "text/x-python",
   "name": "python",
   "nbconvert_exporter": "python",
   "pygments_lexer": "ipython3",
   "version": "3.13.2"
  }
 },
 "nbformat": 4,
 "nbformat_minor": 5
}
