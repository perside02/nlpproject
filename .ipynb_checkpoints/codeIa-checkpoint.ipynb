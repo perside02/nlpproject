{
 "cells": [
  {
   "cell_type": "code",
   "execution_count": 1,
   "id": "997c77f0-4764-412b-bce0-33685bc0889f",
   "metadata": {},
   "outputs": [
    {
     "name": "stdout",
     "output_type": "stream",
     "text": [
      "Requirement already satisfied: selenium in c:\\users\\lenovo\\appdata\\local\\programs\\python\\python313\\lib\\site-packages (4.35.0)\n",
      "Requirement already satisfied: urllib3<3.0,>=2.5.0 in c:\\users\\lenovo\\appdata\\local\\programs\\python\\python313\\lib\\site-packages (from urllib3[socks]<3.0,>=2.5.0->selenium) (2.5.0)\n",
      "Requirement already satisfied: trio~=0.30.0 in c:\\users\\lenovo\\appdata\\local\\programs\\python\\python313\\lib\\site-packages (from selenium) (0.30.0)\n",
      "Requirement already satisfied: trio-websocket~=0.12.2 in c:\\users\\lenovo\\appdata\\local\\programs\\python\\python313\\lib\\site-packages (from selenium) (0.12.2)\n",
      "Requirement already satisfied: certifi>=2025.6.15 in c:\\users\\lenovo\\appdata\\local\\programs\\python\\python313\\lib\\site-packages (from selenium) (2025.7.14)\n",
      "Requirement already satisfied: typing_extensions~=4.14.0 in c:\\users\\lenovo\\appdata\\local\\programs\\python\\python313\\lib\\site-packages (from selenium) (4.14.1)\n",
      "Requirement already satisfied: websocket-client~=1.8.0 in c:\\users\\lenovo\\appdata\\local\\programs\\python\\python313\\lib\\site-packages (from selenium) (1.8.0)\n",
      "Requirement already satisfied: attrs>=23.2.0 in c:\\users\\lenovo\\appdata\\local\\programs\\python\\python313\\lib\\site-packages (from trio~=0.30.0->selenium) (25.3.0)\n",
      "Requirement already satisfied: sortedcontainers in c:\\users\\lenovo\\appdata\\local\\programs\\python\\python313\\lib\\site-packages (from trio~=0.30.0->selenium) (2.4.0)\n",
      "Requirement already satisfied: idna in c:\\users\\lenovo\\appdata\\local\\programs\\python\\python313\\lib\\site-packages (from trio~=0.30.0->selenium) (3.10)\n",
      "Requirement already satisfied: outcome in c:\\users\\lenovo\\appdata\\local\\programs\\python\\python313\\lib\\site-packages (from trio~=0.30.0->selenium) (1.3.0.post0)\n",
      "Requirement already satisfied: sniffio>=1.3.0 in c:\\users\\lenovo\\appdata\\local\\programs\\python\\python313\\lib\\site-packages (from trio~=0.30.0->selenium) (1.3.1)\n",
      "Requirement already satisfied: cffi>=1.14 in c:\\users\\lenovo\\appdata\\local\\programs\\python\\python313\\lib\\site-packages (from trio~=0.30.0->selenium) (1.17.1)\n",
      "Requirement already satisfied: wsproto>=0.14 in c:\\users\\lenovo\\appdata\\local\\programs\\python\\python313\\lib\\site-packages (from trio-websocket~=0.12.2->selenium) (1.2.0)\n",
      "Requirement already satisfied: pysocks!=1.5.7,<2.0,>=1.5.6 in c:\\users\\lenovo\\appdata\\local\\programs\\python\\python313\\lib\\site-packages (from urllib3[socks]<3.0,>=2.5.0->selenium) (1.7.1)\n",
      "Requirement already satisfied: pycparser in c:\\users\\lenovo\\appdata\\local\\programs\\python\\python313\\lib\\site-packages (from cffi>=1.14->trio~=0.30.0->selenium) (2.22)\n",
      "Requirement already satisfied: h11<1,>=0.9.0 in c:\\users\\lenovo\\appdata\\local\\programs\\python\\python313\\lib\\site-packages (from wsproto>=0.14->trio-websocket~=0.12.2->selenium) (0.16.0)\n",
      "Note: you may need to restart the kernel to use updated packages.\n"
     ]
    },
    {
     "name": "stderr",
     "output_type": "stream",
     "text": [
      "\n",
      "[notice] A new release of pip is available: 25.1.1 -> 25.2\n",
      "[notice] To update, run: python.exe -m pip install --upgrade pip\n"
     ]
    }
   ],
   "source": [
    "%pip install selenium"
   ]
  },
  {
   "cell_type": "code",
   "execution_count": 4,
   "id": "adc7b523-701a-4e47-b7e8-c50d589a4ba0",
   "metadata": {},
   "outputs": [
    {
     "name": "stdout",
     "output_type": "stream",
     "text": [
      "🚀 Chargement de la page...\n",
      "✅ Cookies chargés\n",
      "📜 Défilement...\n",
      "🔍 Recherche des commentaires utilisateur...\n",
      "✅ Commentaire trouvé: Informations de compte oubliées ?...\n",
      "✅ Commentaire trouvé: Page · Enseignement supérieur...\n",
      "✅ Commentaire trouvé: Pour les inscrits en premier année 2025_2026, ils ...\n",
      "✅ Commentaire trouvé: Voir les 8 réponses...\n",
      "✅ Commentaire trouvé: Mot de passe oublié ?...\n",
      "✅ Commentaire trouvé: Créer un nouveau compte...\n",
      "\n",
      "============================================================\n",
      "🎯 COMMENTAIRES UTILISATEUR EXTRACTES\n",
      "============================================================\n",
      "✅ 6 commentaires trouvés\n",
      "------------------------------------------------------------\n",
      "1. Informations de compte oubliées ?\n",
      "----------------------------------------\n",
      "2. Page · Enseignement supérieur\n",
      "----------------------------------------\n",
      "3. Pour les inscrits en premier année 2025_2026, ils auront des ordinateurs portables avant le début des cours ou bien comment se passe ? Merci cordialement\n",
      "----------------------------------------\n",
      "4. Voir les 8 réponses\n",
      "----------------------------------------\n",
      "5. Mot de passe oublié ?\n",
      "----------------------------------------\n",
      "6. Créer un nouveau compte\n",
      "----------------------------------------\n",
      "💾 Sauvegardé: 'commentaires_filtres.txt'\n",
      "🔚 Terminé\n"
     ]
    }
   ],
   "source": [
    "from selenium import webdriver\n",
    "from time import sleep\n",
    "from selenium.webdriver.chrome.service import Service\n",
    "from selenium.webdriver.common.keys import Keys\n",
    "from selenium.webdriver.support import expected_conditions as EC\n",
    "from selenium.webdriver.common.by import By\n",
    "from selenium.webdriver.support.wait import WebDriverWait\n",
    "import time\n",
    "import json\n",
    "\n",
    "# chemin vers chromedriver.exe\n",
    "chrome = Service(r'C:/Program Files/chromedriver-win64/chromedriver.exe')\n",
    "\n",
    "# fichier cookies facebook\n",
    "facebook_cookies = r'C:/Users/Lenovo/nlpProjects/cookies.json'\n",
    "\n",
    "# charger les cookies\n",
    "def load_cookies(driver, facebook_cookies):\n",
    "    with open(facebook_cookies, 'r') as file:\n",
    "        cookies = json.load(file)\n",
    "        for cookie in cookies:\n",
    "            # certains champs ne sont pas acceptés par Selenium\n",
    "            cookie.pop('sameSite', None)\n",
    "            cookie.pop('priority', None)\n",
    "            try:\n",
    "                driver.add_cookie(cookie)\n",
    "            except Exception as e:\n",
    "                print(f\"Cookie ignoré : {cookie} | Erreur : {e}\")\n",
    "\n",
    "# Initialiser le WebDriver pour Chrome\n",
    "driver = webdriver.Chrome(service=chrome)\n",
    "\n",
    "# charger url de la page d'accueil facebook\n",
    "driver.get('https://web.facebook.com/')\n",
    "\n",
    "# Charger les cookies pour maintenir la session\n",
    "load_cookies(driver, facebook_cookies)\n",
    "\n",
    "# Rafraîchir la page pour appliquer les cookies\n",
    "driver.refresh()\n",
    "\n",
    "# Attendre que la page se charge complètement\n",
    "time.sleep(5)\n",
    "\n",
    "# Aller sur la page cible\n",
    "driver.get(\"https://web.facebook.com/uvburkina\")\n",
    "time.sleep(5)\n",
    "\n",
    "# Faire défiler pour charger tous les commentaires\n",
    "scroll_pause_time = 2\n",
    "while True:\n",
    "    last_height = driver.execute_script(\"return document.body.scrollHeight\")\n",
    "    driver.find_element(By.TAG_NAME, 'body').send_keys(Keys.END)\n",
    "    time.sleep(scroll_pause_time)\n",
    "    new_height = driver.execute_script(\"return document.body.scrollHeight\")\n",
    "    if new_height == last_height:\n",
    "        break\n",
    "# Extraire les commentaires\n",
    "comments = []\n",
    "try:\n",
    "    # cibler uniquement les zones de texte dans les commentaires\n",
    "    comment_elements = WebDriverWait(driver, 10).until(\n",
    "        EC.presence_of_all_elements_located((By.CSS_SELECTOR, \"[data-testid='comment']\"))\n",
    "    )\n",
    "  for comment in comment_elements: \n",
    "      comments.append(comment.text) \n",
    "except Exception as e: \n",
    "    print(f\"Erreur lors de l'extraction des commentaires: {e}\") \n",
    "# Afficher les résultats \n",
    "for c in comments: \n",
    "    print(c) \n",
    "    # Fermer le navigateur \n",
    "driver.quit()"
   ]
  },
  {
   "cell_type": "code",
   "execution_count": null,
   "id": "2370494e-fbb3-4cc8-af28-4214df139486",
   "metadata": {},
   "outputs": [],
   "source": []
  }
 ],
 "metadata": {
  "kernelspec": {
   "display_name": "Python 3 (ipykernel)",
   "language": "python",
   "name": "python3"
  },
  "language_info": {
   "codemirror_mode": {
    "name": "ipython",
    "version": 3
   },
   "file_extension": ".py",
   "mimetype": "text/x-python",
   "name": "python",
   "nbconvert_exporter": "python",
   "pygments_lexer": "ipython3",
   "version": "3.13.2"
  }
 },
 "nbformat": 4,
 "nbformat_minor": 5
}
