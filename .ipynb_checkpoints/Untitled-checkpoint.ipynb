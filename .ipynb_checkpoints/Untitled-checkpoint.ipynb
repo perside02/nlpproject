{
 "cells": [
  {
   "cell_type": "markdown",
   "id": "41e9a5e7-7bfb-4c54-adae-d8c073a252a9",
   "metadata": {},
   "source": [
    "1.Scraping de données sur Twitter"
   ]
  },
  {
   "cell_type": "markdown",
   "id": "cd1e410a-e739-4824-9fa4-dc0ed81b3bca",
   "metadata": {},
   "source": [
    "installer des bibliothèques"
   ]
  },
  {
   "cell_type": "code",
   "execution_count": 1,
   "id": "2c6fd507-e6a3-4570-ba87-562a77af9568",
   "metadata": {},
   "outputs": [
    {
     "name": "stdout",
     "output_type": "stream",
     "text": [
      "Collecting tweepy\n",
      "  Downloading tweepy-4.16.0-py3-none-any.whl.metadata (3.3 kB)\n",
      "Collecting oauthlib<4,>=3.2.0 (from tweepy)\n",
      "  Downloading oauthlib-3.3.1-py3-none-any.whl.metadata (7.9 kB)\n",
      "Requirement already satisfied: requests<3,>=2.27.0 in c:\\users\\lenovo\\appdata\\local\\programs\\python\\python313\\lib\\site-packages (from tweepy) (2.32.5)\n",
      "Collecting requests-oauthlib<3,>=1.2.0 (from tweepy)\n",
      "  Downloading requests_oauthlib-2.0.0-py2.py3-none-any.whl.metadata (11 kB)\n",
      "Requirement already satisfied: charset_normalizer<4,>=2 in c:\\users\\lenovo\\appdata\\local\\programs\\python\\python313\\lib\\site-packages (from requests<3,>=2.27.0->tweepy) (3.4.3)\n",
      "Requirement already satisfied: idna<4,>=2.5 in c:\\users\\lenovo\\appdata\\local\\programs\\python\\python313\\lib\\site-packages (from requests<3,>=2.27.0->tweepy) (3.10)\n",
      "Requirement already satisfied: urllib3<3,>=1.21.1 in c:\\users\\lenovo\\appdata\\local\\programs\\python\\python313\\lib\\site-packages (from requests<3,>=2.27.0->tweepy) (2.5.0)\n",
      "Requirement already satisfied: certifi>=2017.4.17 in c:\\users\\lenovo\\appdata\\local\\programs\\python\\python313\\lib\\site-packages (from requests<3,>=2.27.0->tweepy) (2025.7.14)\n",
      "Downloading tweepy-4.16.0-py3-none-any.whl (98 kB)\n",
      "Downloading oauthlib-3.3.1-py3-none-any.whl (160 kB)\n",
      "Downloading requests_oauthlib-2.0.0-py2.py3-none-any.whl (24 kB)\n",
      "Installing collected packages: oauthlib, requests-oauthlib, tweepy\n",
      "\n",
      "   ---------------------------------------- 0/3 [oauthlib]\n",
      "   ---------------------------------------- 0/3 [oauthlib]\n",
      "   ---------------------------------------- 0/3 [oauthlib]\n",
      "   ---------------------------------------- 0/3 [oauthlib]\n",
      "   ------------- -------------------------- 1/3 [requests-oauthlib]\n",
      "   -------------------------- ------------- 2/3 [tweepy]\n",
      "   -------------------------- ------------- 2/3 [tweepy]\n",
      "   -------------------------- ------------- 2/3 [tweepy]\n",
      "   -------------------------- ------------- 2/3 [tweepy]\n",
      "   ---------------------------------------- 3/3 [tweepy]\n",
      "\n",
      "Successfully installed oauthlib-3.3.1 requests-oauthlib-2.0.0 tweepy-4.16.0\n",
      "Note: you may need to restart the kernel to use updated packages.\n"
     ]
    },
    {
     "name": "stderr",
     "output_type": "stream",
     "text": [
      "\n",
      "[notice] A new release of pip is available: 25.1.1 -> 25.2\n",
      "[notice] To update, run: python.exe -m pip install --upgrade pip\n"
     ]
    }
   ],
   "source": [
    "pip install tweepy"
   ]
  },
  {
   "cell_type": "code",
   "execution_count": 35,
   "id": "73f3b626-c033-475b-ae1a-e7676f32234d",
   "metadata": {},
   "outputs": [
    {
     "ename": "TypeError",
     "evalue": "Consumer key must be string or bytes, not tuple",
     "output_type": "error",
     "traceback": [
      "\u001b[31m---------------------------------------------------------------------------\u001b[39m",
      "\u001b[31mTypeError\u001b[39m                                 Traceback (most recent call last)",
      "\u001b[36mCell\u001b[39m\u001b[36m \u001b[39m\u001b[32mIn[35]\u001b[39m\u001b[32m, line 9\u001b[39m\n\u001b[32m      6\u001b[39m access_key =\u001b[33m\"\u001b[39m\u001b[33m1967587059834433537-8p7aVN3kyz0e3qbjUsIZxoBTbaOuaM\u001b[39m\u001b[33m\"\u001b[39m,\n\u001b[32m      7\u001b[39m access_secret =\u001b[33m\"\u001b[39m\u001b[33mtp8SrLsLUQYR9YVD5CLWfn5WT8a3v2kb2tIXqLxpzBilr\u001b[39m\u001b[33m\"\u001b[39m\n\u001b[32m----> \u001b[39m\u001b[32m9\u001b[39m auth = \u001b[43mtweepy\u001b[49m\u001b[43m.\u001b[49m\u001b[43mOAuthHandler\u001b[49m\u001b[43m(\u001b[49m\u001b[43mconsumer_key\u001b[49m\u001b[43m,\u001b[49m\u001b[43m \u001b[49m\u001b[43mconsumer_secret\u001b[49m\u001b[43m)\u001b[49m\n\u001b[32m     10\u001b[39m auth.set_access_token(access_key, access_secret)\n\u001b[32m     12\u001b[39m api = tweepy.API(auth)\n",
      "\u001b[36mFile \u001b[39m\u001b[32m~\\AppData\\Local\\Programs\\Python\\Python313\\Lib\\site-packages\\tweepy\\auth.py:124\u001b[39m, in \u001b[36mOAuthHandler.__init__\u001b[39m\u001b[34m(self, consumer_key, consumer_secret, access_token, access_token_secret, callback)\u001b[39m\n\u001b[32m    118\u001b[39m \u001b[38;5;28;01mdef\u001b[39;00m\u001b[38;5;250m \u001b[39m\u001b[34m__init__\u001b[39m(\u001b[38;5;28mself\u001b[39m, consumer_key, consumer_secret, access_token=\u001b[38;5;28;01mNone\u001b[39;00m,\n\u001b[32m    119\u001b[39m              access_token_secret=\u001b[38;5;28;01mNone\u001b[39;00m, callback=\u001b[38;5;28;01mNone\u001b[39;00m):\n\u001b[32m    120\u001b[39m     warnings.warn(\n\u001b[32m    121\u001b[39m         \u001b[33m\"\u001b[39m\u001b[33mOAuthHandler is deprecated; use OAuth1UserHandler instead.\u001b[39m\u001b[33m\"\u001b[39m,\n\u001b[32m    122\u001b[39m         \u001b[38;5;167;01mDeprecationWarning\u001b[39;00m\n\u001b[32m    123\u001b[39m     )\n\u001b[32m--> \u001b[39m\u001b[32m124\u001b[39m     \u001b[38;5;28;43msuper\u001b[39;49m\u001b[43m(\u001b[49m\u001b[43m)\u001b[49m\u001b[43m.\u001b[49m\u001b[34;43m__init__\u001b[39;49m\u001b[43m(\u001b[49m\u001b[43mconsumer_key\u001b[49m\u001b[43m,\u001b[49m\u001b[43m \u001b[49m\u001b[43mconsumer_secret\u001b[49m\u001b[43m,\u001b[49m\u001b[43m \u001b[49m\u001b[43maccess_token\u001b[49m\u001b[43m,\u001b[49m\u001b[43m \u001b[49m\n\u001b[32m    125\u001b[39m \u001b[43m                     \u001b[49m\u001b[43maccess_token_secret\u001b[49m\u001b[43m,\u001b[49m\u001b[43m \u001b[49m\u001b[43mcallback\u001b[49m\u001b[43m)\u001b[49m\n",
      "\u001b[36mFile \u001b[39m\u001b[32m~\\AppData\\Local\\Programs\\Python\\Python313\\Lib\\site-packages\\tweepy\\auth.py:31\u001b[39m, in \u001b[36mOAuth1UserHandler.__init__\u001b[39m\u001b[34m(self, consumer_key, consumer_secret, access_token, access_token_secret, callback)\u001b[39m\n\u001b[32m     28\u001b[39m \u001b[38;5;28;01mdef\u001b[39;00m\u001b[38;5;250m \u001b[39m\u001b[34m__init__\u001b[39m(\u001b[38;5;28mself\u001b[39m, consumer_key, consumer_secret, access_token=\u001b[38;5;28;01mNone\u001b[39;00m,\n\u001b[32m     29\u001b[39m              access_token_secret=\u001b[38;5;28;01mNone\u001b[39;00m, callback=\u001b[38;5;28;01mNone\u001b[39;00m):\n\u001b[32m     30\u001b[39m     \u001b[38;5;28;01mif\u001b[39;00m \u001b[38;5;129;01mnot\u001b[39;00m \u001b[38;5;28misinstance\u001b[39m(consumer_key, (\u001b[38;5;28mstr\u001b[39m, \u001b[38;5;28mbytes\u001b[39m)):\n\u001b[32m---> \u001b[39m\u001b[32m31\u001b[39m         \u001b[38;5;28;01mraise\u001b[39;00m \u001b[38;5;167;01mTypeError\u001b[39;00m(\u001b[33m\"\u001b[39m\u001b[33mConsumer key must be string or bytes, not \u001b[39m\u001b[33m\"\u001b[39m\n\u001b[32m     32\u001b[39m                         + \u001b[38;5;28mtype\u001b[39m(consumer_key).\u001b[34m__name__\u001b[39m)\n\u001b[32m     33\u001b[39m     \u001b[38;5;28;01mif\u001b[39;00m \u001b[38;5;129;01mnot\u001b[39;00m \u001b[38;5;28misinstance\u001b[39m(consumer_secret, (\u001b[38;5;28mstr\u001b[39m, \u001b[38;5;28mbytes\u001b[39m)):\n\u001b[32m     34\u001b[39m         \u001b[38;5;28;01mraise\u001b[39;00m \u001b[38;5;167;01mTypeError\u001b[39;00m(\u001b[33m\"\u001b[39m\u001b[33mConsumer secret must be string or bytes, not \u001b[39m\u001b[33m\"\u001b[39m\n\u001b[32m     35\u001b[39m                         + \u001b[38;5;28mtype\u001b[39m(consumer_secret).\u001b[34m__name__\u001b[39m)\n",
      "\u001b[31mTypeError\u001b[39m: Consumer key must be string or bytes, not tuple"
     ]
    }
   ],
   "source": [
    "import tweepy\n",
    "from tweepy import OAuth1UserHandler, API\n",
    "\n",
    "consumer_key= \"rBhoD3SqdAZPHCdCY94n0sR25\",\n",
    "consumer_secret = \"qO3t5Wk6IAyA6RYyIKeorhxxMcNHdUmscGmfJrAYXSQAPm6qbh\",\n",
    "access_key = \"1967587059834433537-8p7aVN3kyz0e3qbjUsIZxoBTbaOuaM\",\n",
    "access_secret = \"tp8SrLsLUQYR9YVD5CLWfn5WT8a3v2kb2tIXqLxpzBilr\"\n",
    "\n",
    "auth = tweepy.OAuthHandler(consumer_key, consumer_secret)\n",
    "auth.set_access_token(access_key, access_secret)\n",
    "\n",
    "api = tweepy.API(auth)\n",
    "\n",
    "print(\"-\" * 15)\n",
    "\n",
    "QUERY = \"Université UVBF AND #UVBF AND @eUVBF -filter:retweets\"\n",
    "tweets = api.search_tweets(QUERY, tweet_mode=\"extended\", count=7, result_type=\"recent\", lang='en')\n",
    "for i in tweets:\n",
    "    print(i.full_text)\n",
    "    print(\"-\" * 15)"
   ]
  },
  {
   "cell_type": "code",
   "execution_count": null,
   "id": "7df2cb48-d4cc-4b10-af9f-724a7c9eb932",
   "metadata": {},
   "outputs": [],
   "source": []
  },
  {
   "cell_type": "code",
   "execution_count": null,
   "id": "f83368eb-c624-4a95-b5cb-1e9bcaaf7af5",
   "metadata": {},
   "outputs": [],
   "source": []
  }
 ],
 "metadata": {
  "kernelspec": {
   "display_name": "Python 3 (ipykernel)",
   "language": "python",
   "name": "python3"
  },
  "language_info": {
   "codemirror_mode": {
    "name": "ipython",
    "version": 3
   },
   "file_extension": ".py",
   "mimetype": "text/x-python",
   "name": "python",
   "nbconvert_exporter": "python",
   "pygments_lexer": "ipython3",
   "version": "3.13.2"
  }
 },
 "nbformat": 4,
 "nbformat_minor": 5
}
